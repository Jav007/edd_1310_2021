{
  "nbformat": 4,
  "nbformat_minor": 0,
  "metadata": {
    "colab": {
      "name": "1diciembre_1310",
      "provenance": [],
      "collapsed_sections": [],
      "authorship_tag": "ABX9TyNmzcdXGUWwytObXv9f+5kC",
      "include_colab_link": true
    },
    "kernelspec": {
      "name": "python3",
      "display_name": "Python 3"
    }
  },
  "cells": [
    {
      "cell_type": "markdown",
      "metadata": {
        "id": "view-in-github",
        "colab_type": "text"
      },
      "source": [
        "<a href=\"https://colab.research.google.com/github/Jav007/edd_1310_2021/blob/main/1diciembre_1310.ipynb\" target=\"_parent\"><img src=\"https://colab.research.google.com/assets/colab-badge.svg\" alt=\"Open In Colab\"/></a>"
      ]
    },
    {
      "cell_type": "code",
      "metadata": {
        "id": "qp-Qlip4uX2M"
      },
      "source": [
        "class LaberintoADT:\r\n",
        "    \"\"\"\r\n",
        "    0 pasillo, 1 oared, S salida y E entrada\r\n",
        "    pasillo es una tupla ((2,1),(2,2),(2,3),(2,4),(3,2),(4,2))\r\n",
        "    \"\"\"\r\n",
        "    def __init__(self, rens,cols,pasillos):\r\n",
        "        self.__laberinto = Array2D(rens,cols,'1')\r\n",
        "        for pasillos in pasillos:\r\n",
        "            self.__laberinto.set_item(pasillo[0], pasillo[1], '0')\r\n",
        "    def to_String(self):\r\n",
        "        self.__laberinto.to_string()"
      ],
      "execution_count": 4,
      "outputs": []
    }
  ]
}