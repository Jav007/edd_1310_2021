{
  "nbformat": 4,
  "nbformat_minor": 0,
  "metadata": {
    "colab": {
      "name": "19noviembre_1310.ipynb",
      "provenance": [],
      "authorship_tag": "ABX9TyPKUYDkm7LrpfhaQJXE58VI",
      "include_colab_link": true
    },
    "kernelspec": {
      "name": "python3",
      "display_name": "Python 3"
    }
  },
  "cells": [
    {
      "cell_type": "markdown",
      "metadata": {
        "id": "view-in-github",
        "colab_type": "text"
      },
      "source": [
        "<a href=\"https://colab.research.google.com/github/Jav007/edd_1310_2021/blob/main/19noviembre_1310.ipynb\" target=\"_parent\"><img src=\"https://colab.research.google.com/assets/colab-badge.svg\" alt=\"Open In Colab\"/></a>"
      ]
    },
    {
      "cell_type": "code",
      "metadata": {
        "colab": {
          "base_uri": "https://localhost:8080/"
        },
        "id": "OVh6SmkP4JcJ",
        "outputId": "8a13e577-b8ce-4a87-8ed9-0ec26a2907a6"
      },
      "source": [
        "class Nodo:\r\n",
        "    def __init__(self,value,siguiente=None):\r\n",
        "        self.data = value\r\n",
        "        self.siguiente=siguiente\r\n",
        "class LinkedList:\r\n",
        "    def __init__(self):\r\n",
        "        self.__head = None\r\n",
        "    def is_empty(self):   #     Retorna un True si la lista esta vacia\r\n",
        "        return self.__head == None\r\n",
        "    def append(self,value): #   Agregear por el final\r\n",
        "        nuevo = Nodo(value)\r\n",
        "        if self.__head == None:\r\n",
        "            self.__head = nuevo\r\n",
        "        else:\r\n",
        "            curr_node = self.__head\r\n",
        "            while curr_node.siguiente != None:\r\n",
        "                curr_node = curr_node.siguiente\r\n",
        "            curr_node.siguiente = nuevo\r\n",
        "    def transversal(self): #    imprimir los nodos\r\n",
        "        curr_node = self.__head\r\n",
        "        while curr_node != None:\r\n",
        "            print(f\"{curr_node.data} --> \",end=\"\")\r\n",
        "            curr_node = curr_node.siguiente\r\n",
        "        print()\r\n",
        "        \r\n",
        "    def tail(self):\r\n",
        "        curr_node = self.__head\r\n",
        "        while curr_node.siguiente != None:\r\n",
        "            curr_node = curr_node.siguiente\r\n",
        "        return curr_node\r\n",
        "    def remove(self, value):\r\n",
        "        curr_node = self.__head\r\n",
        "        if self.__head.data == value:\r\n",
        "            self.__head = self.__head.siguiente\r\n",
        "        else:\r\n",
        "            while curr_node.data != value and curr_node.siguiente != None:\r\n",
        "                anterior = curr_node\r\n",
        "                curr_node = curr_node.siguiente\r\n",
        "            if curr_node.data == value:\r\n",
        "                anterior.siguiente = curr_node.siguiente\r\n",
        "            else:\r\n",
        "                print(f\"El dato {value} no existe en la lista\")\r\n",
        "            \r\n",
        "    def preppend(self,value):\r\n",
        "        nuevo = Nodo(value,self.__head)\r\n",
        "        self.__head=nuevo\r\n",
        "    def get(self,posicion=None): #Por defecto regresa el ultimo\r\n",
        "        contador=0\r\n",
        "        dato = None\r\n",
        "        if posicion == None:\r\n",
        "            dato = self.tail().data\r\n",
        "        else:\r\n",
        "            pass\r\n",
        "        \r\n",
        "        return dato\r\n",
        "        \r\n",
        "l = LinkedList()\r\n",
        "print(f\"�Lista vacia? {l.is_empty()}\")\r\n",
        "l.append(10)\r\n",
        "l.append(5)\r\n",
        "l.append(6)\r\n",
        "l.append(20)\r\n",
        "print(f\"�Lista vacia? {l.is_empty()}\")\r\n",
        "l.transversal()\r\n",
        "l.remove(10)\r\n",
        "l.transversal()\r\n",
        "l.preppend(3)\r\n",
        "l.transversal()\r\n",
        "x = l.tail()\r\n",
        "print(x.data)\r\n",
        "print(l.get())"
      ],
      "execution_count": 2,
      "outputs": [
        {
          "output_type": "stream",
          "text": [
            "�Lista vacia? True\n",
            "�Lista vacia? False\n",
            "10 --> 5 --> 6 --> 20 --> \n",
            "5 --> 6 --> 20 --> \n",
            "3 --> 5 --> 6 --> 20 --> \n",
            "20\n",
            "20\n"
          ],
          "name": "stdout"
        }
      ]
    }
  ]
}