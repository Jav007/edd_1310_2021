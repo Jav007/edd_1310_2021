{
  "nbformat": 4,
  "nbformat_minor": 0,
  "metadata": {
    "colab": {
      "name": "27octubre_1310.ipynb",
      "provenance": [],
      "collapsed_sections": [],
      "authorship_tag": "ABX9TyOlCZL5aagKF0w6SrPZHHKn",
      "include_colab_link": true
    },
    "kernelspec": {
      "name": "python3",
      "display_name": "Python 3"
    }
  },
  "cells": [
    {
      "cell_type": "markdown",
      "metadata": {
        "id": "view-in-github",
        "colab_type": "text"
      },
      "source": [
        "<a href=\"https://colab.research.google.com/github/Jav007/edd_1310_2021/blob/main/27octubre_1310.ipynb\" target=\"_parent\"><img src=\"https://colab.research.google.com/assets/colab-badge.svg\" alt=\"Open In Colab\"/></a>"
      ]
    },
    {
      "cell_type": "code",
      "metadata": {
        "id": "hiuLZ-e6CP30",
        "colab": {
          "base_uri": "https://localhost:8080/",
          "height": 68
        },
        "outputId": "40c1b52d-67eb-4ec8-ef94-4c41a9d695db"
      },
      "source": [
        " class Computadora: \n",
        "    def __init__(self,m,p):\n",
        "        self.__marca=m\n",
        "        self.__procesador=p # __ significa privado\n",
        "    \n",
        "    def to_string(self):\n",
        "        return \"Marca:\"+self.__marca+\" Procesador:\"+self.__procesador\n",
        " \n",
        "    def set_marca(self,m):\n",
        "        self.__marca = m\n",
        "   \n",
        "    def get_marca(self):\n",
        "        return self.__marca\n",
        " \n",
        "    def set_procesador(self,p):\n",
        "        self.__procesador =p\n",
        " \n",
        "    def get_procesador(self):\n",
        "        return self.__procesador\n",
        " \n",
        "mi_pc = Computadora(\"Toshiba\",\"Intel i7\")\n",
        "print (mi_pc.to_string())\n",
        "mi_pc.marca=\"HP \" #Intentado cambiar el valor privado\n",
        "mi_pc.set_marca(\"HP CO.\") # Cambiar correctamente un atributo\n",
        "print (mi_pc.to_string())\n",
        "#print(mi_pc.__procesador)\n",
        "print(mi_pc.get_procesador())# Mostrar un atributo"
      ],
      "execution_count": null,
      "outputs": [
        {
          "output_type": "stream",
          "text": [
            "Marca:Toshiba Procesador:Intel i7\n",
            "Marca:HP CO. Procesador:Intel i7\n",
            "Intel i7\n"
          ],
          "name": "stdout"
        }
      ]
    },
    {
      "cell_type": "markdown",
      "metadata": {
        "id": "C1UEqKq2EIxL"
      },
      "source": [
        "# Encapsulamiento Python 3\n",
        "## Tradicional tipo Java\n",
        "   void setAtributo(Val)\n",
        " \n",
        "   tipo getAtributo()\n",
        "## Estilo Python 3\n",
        "Utilizando decoradores\n",
        "- @Property\n",
        "- @atributo.setter"
      ]
    },
    {
      "cell_type": "code",
      "metadata": {
        "id": "2VGjsDiSH1gG",
        "colab": {
          "base_uri": "https://localhost:8080/",
          "height": 102
        },
        "outputId": "6aa3721a-9275-4df7-b0b8-ec89fe15ec9e"
      },
      "source": [
        "class Computadora:\n",
        "    def __init__(self,m,p):\n",
        "        self.marca=m #Se llama a Llamar el devorador @property\n",
        "        self.procesador=p #idem\n",
        " \n",
        "    @property         #declara como atributo privado y funciona como método get\n",
        "    def marca (self):\n",
        "        return self.__marca\n",
        " \n",
        "    @marca.setter\n",
        "    def marca(self,m):\n",
        "        print(\"El el setter marca\")\n",
        "        self.__marca=m\n",
        " \n",
        "    @property\n",
        "    def procesador (self):\n",
        "        return self.__procesador\n",
        " \n",
        "    @procesador.setter\n",
        "    def procesador (self,p):\n",
        "        print(\"En el método procesador\")\n",
        "        self.__procesador=p\n",
        " \n",
        "    def to_string(self):\n",
        "        return \"Marca:\"+self.marca+\" Procesador: \" + self.procesador\n",
        " \n",
        "mi_pc2=Computadora(\"Mac Book Pro\",\"Intel i7\")\n",
        "print(mi_pc2.to_string())\n",
        "mi_pc2.marca = \"Dell\"\n",
        "print(mi_pc2.to_string())"
      ],
      "execution_count": null,
      "outputs": [
        {
          "output_type": "stream",
          "text": [
            "El el setter marca\n",
            "En el método procesador\n",
            "Marca:Mac Book Pro Procesador: Intel i7\n",
            "El el setter marca\n",
            "Marca:Dell Procesador: Intel i7\n"
          ],
          "name": "stdout"
        }
      ]
    },
    {
      "cell_type": "code",
      "metadata": {
        "id": "CVFu1QuMQxCs",
        "colab": {
          "base_uri": "https://localhost:8080/",
          "height": 85
        },
        "outputId": "3ce0155c-407b-4d0a-ec7a-202d220a2ae3"
      },
      "source": [
        "# herencia, pasando la clase base a la declaración\n",
        "class ServidorEmpresarial(Computadora):\n",
        "    def __init__(self):\n",
        "        print(\"Hola servidor\")\n",
        " \n",
        "server= ServidorEmpresarial ()\n",
        "server.marca=\"Sun Micro Systems\"\n",
        "server.procesador=\"Intel i7\"\n",
        "print(server.to_string())"
      ],
      "execution_count": null,
      "outputs": [
        {
          "output_type": "stream",
          "text": [
            "Hola servidor\n",
            "El el setter marca\n",
            "En el método procesador\n",
            "Marca:Sun Micro Systems Procesador: Intel i7\n"
          ],
          "name": "stdout"
        }
      ]
    }
  ]
}