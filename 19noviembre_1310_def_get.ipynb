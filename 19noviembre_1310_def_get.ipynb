{
  "nbformat": 4,
  "nbformat_minor": 0,
  "metadata": {
    "colab": {
      "name": "19noviembre_1310.ipynb",
      "provenance": [],
      "collapsed_sections": [],
      "authorship_tag": "ABX9TyPrYh5nj58QLiIj+Y9s93FR",
      "include_colab_link": true
    },
    "kernelspec": {
      "name": "python3",
      "display_name": "Python 3"
    }
  },
  "cells": [
    {
      "cell_type": "markdown",
      "metadata": {
        "id": "view-in-github",
        "colab_type": "text"
      },
      "source": [
        "<a href=\"https://colab.research.google.com/github/Jav007/edd_1310_2021/blob/main/19noviembre_1310_def_get.ipynb\" target=\"_parent\"><img src=\"https://colab.research.google.com/assets/colab-badge.svg\" alt=\"Open In Colab\"/></a>"
      ]
    },
    {
      "cell_type": "code",
      "metadata": {
        "id": "OVh6SmkP4JcJ",
        "colab": {
          "base_uri": "https://localhost:8080/"
        },
        "outputId": "1719bf88-d5c4-4b08-9609-27f47cc2916b"
      },
      "source": [
        "class Nodo:\n",
        "    def __init__(self,value,siguiente=None):\n",
        "        self.data = value\n",
        "        self.siguiente=siguiente\n",
        "class LinkedList:\n",
        "    def __init__(self):\n",
        "        self.__head = None\n",
        " \n",
        "    def is_empty(self):   #     Retorna un True si la lista esta vacia\n",
        "        return self.__head == None\n",
        " \n",
        "    def append(self,value): #   Agregar por el final\n",
        "        nuevo = Nodo(value)\n",
        "        if self.__head == None:\n",
        "            self.__head = nuevo\n",
        "        else:\n",
        "            curr_node = self.__head\n",
        "            while curr_node.siguiente != None:\n",
        "                curr_node = curr_node.siguiente\n",
        "            curr_node.siguiente = nuevo\n",
        " \n",
        "    def transversal(self): #    imprimir los nodos\n",
        "        curr_node = self.__head\n",
        "        while curr_node != None:\n",
        "            print(f\"{curr_node.data} --> \",end=\"\")\n",
        "            curr_node = curr_node.siguiente\n",
        "        print()\n",
        "        \n",
        "    def tail(self):\n",
        "        curr_node = self.__head\n",
        "        while curr_node.siguiente != None:\n",
        "            curr_node = curr_node.siguiente\n",
        "        return curr_node\n",
        " \n",
        "    def remove(self, value):\n",
        "        curr_node = self.__head\n",
        "        if self.__head.data == value:\n",
        "            self.__head = self.__head.siguiente\n",
        "        else:\n",
        "            while curr_node.data != value and curr_node.siguiente != None:\n",
        "                anterior = curr_node\n",
        "                curr_node = curr_node.siguiente\n",
        "            if curr_node.data == value:\n",
        "                anterior.siguiente = curr_node.siguiente\n",
        "            else:\n",
        "                print(f\"El dato {value} no existe en la lista\")\n",
        "            \n",
        "    def preppend(self,value):\n",
        "        nuevo = Nodo(value,self.__head)\n",
        "        self.__head=nuevo\n",
        " \n",
        " \n",
        "    def get(self,posicion=None): #Por defecto regresa el ultimo\n",
        "        counter=0\n",
        "        dato = None \n",
        "        curr_node=self.__head   \n",
        "        if posicion == None:\n",
        "            dato = self.tail().data\n",
        "        else:\n",
        "            while curr_node != None:\n",
        "                counter+=1\n",
        "                if (counter == posicion):\n",
        "                    dato = curr_node.data\n",
        "                curr_node = curr_node.siguiente\n",
        "        return dato\n",
        " \n",
        "    def nodos(self): # cantidad de nodos\n",
        "            curr_node = self.__head\n",
        "            contador=0\n",
        "            while curr_node != None:\n",
        "                contador+=1\n",
        "                curr_node = curr_node.siguiente\n",
        "            return contador\n",
        " \n",
        " \n",
        "l = LinkedList()\n",
        "print(f\"Lista vacia? {l.is_empty()}\")\n",
        "l.append(10)\n",
        "l.append(5)\n",
        "l.append(6)\n",
        "l.append(20)\n",
        "print(f\"Lista vacia? {l.is_empty()}\")\n",
        "l.transversal()\n",
        "l.remove(10)\n",
        "l.transversal()\n",
        "l.preppend(3)\n",
        "l.transversal()\n",
        "x = l.tail()\n",
        "print(x.data)\n",
        "print(f\"Total de Nodos : {l.nodos()}\")\n",
        "for i in range(l.nodos()):\n",
        "    \n",
        "    print(f\"El Nodo número {i+1} es {l.get(i+1)}\")\n",
        "#print(l.get())"
      ],
      "execution_count": 58,
      "outputs": [
        {
          "output_type": "stream",
          "text": [
            "Lista vacia? True\n",
            "Lista vacia? False\n",
            "10 --> 5 --> 6 --> 20 --> \n",
            "5 --> 6 --> 20 --> \n",
            "3 --> 5 --> 6 --> 20 --> \n",
            "20\n",
            "Total de Nodos : 4\n",
            "El Nodo número 1 es 3\n",
            "El Nodo número 2 es 5\n",
            "El Nodo número 3 es 6\n",
            "El Nodo número 4 es 20\n"
          ],
          "name": "stdout"
        }
      ]
    },
    {
      "cell_type": "code",
      "metadata": {
        "colab": {
          "base_uri": "https://localhost:8080/"
        },
        "id": "1S74gvh9Chob",
        "outputId": "991dfbba-1698-4e22-c289-aa10a40c17c9"
      },
      "source": [
        "a=LinkedList()\n",
        "a.append(5)\n",
        "a.append('A')\n",
        "a.append(15)\n",
        "a.append(True)\n",
        "a.append(200)\n",
        "a.transversal()\n",
        "a.preppend(\"Hola\")\n",
        "a.preppend(69)\n",
        "a.transversal()\n",
        "print(a.nodos())\n",
        "for i in range(a.nodos()):\n",
        "    \n",
        "    print(f\"El Nodo número {i+1} es {a.get(i+1)}\")"
      ],
      "execution_count": 67,
      "outputs": [
        {
          "output_type": "stream",
          "text": [
            "5 --> A --> 15 --> True --> 200 --> \n",
            "69 --> Hola --> 5 --> A --> 15 --> True --> 200 --> \n",
            "7\n",
            "El Nodo número 1 es 69\n",
            "El Nodo número 2 es Hola\n",
            "El Nodo número 3 es 5\n",
            "El Nodo número 4 es A\n",
            "El Nodo número 5 es 15\n",
            "El Nodo número 6 es True\n",
            "El Nodo número 7 es 200\n"
          ],
          "name": "stdout"
        }
      ]
    }
  ]
}