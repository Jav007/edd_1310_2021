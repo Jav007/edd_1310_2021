{
  "nbformat": 4,
  "nbformat_minor": 0,
  "metadata": {
    "colab": {
      "name": "3diciembre_1310",
      "provenance": [],
      "collapsed_sections": [],
      "authorship_tag": "ABX9TyNX/BqSboTR0ck7WQGdbEaE",
      "include_colab_link": true
    },
    "kernelspec": {
      "name": "python3",
      "display_name": "Python 3"
    }
  },
  "cells": [
    {
      "cell_type": "markdown",
      "metadata": {
        "id": "view-in-github",
        "colab_type": "text"
      },
      "source": [
        "<a href=\"https://colab.research.google.com/github/Jav007/edd_1310_2021/blob/master/3diciembre_1310.ipynb\" target=\"_parent\"><img src=\"https://colab.research.google.com/assets/colab-badge.svg\" alt=\"Open In Colab\"/></a>"
      ]
    },
    {
      "cell_type": "code",
      "metadata": {
        "id": "qp-Qlip4uX2M"
      },
      "source": [
        "class Array2D:\n",
        " \n",
        "    def __init__(self,rows, cols, value):\n",
        "        self.__cols = cols\n",
        "        self.__rows = rows\n",
        "        self.__array=[[value for x in range(self.__cols)] for y in range(self.__rows)]\n",
        " \n",
        "    def to_string(self):\n",
        "        \n",
        "        [print(\"---\",end=\"\") for x in range(self.__cols)]\n",
        "        print(\"\")\n",
        "        for ren in self.__array:\n",
        "            print(ren)\n",
        "        [print(\"---\",end=\"\") for x in range(self.__cols)]\n",
        "        print(\"\")\n",
        " \n",
        "    def get_num_rows(self):\n",
        "        return self.__rows\n",
        " \n",
        "    def get_num_cols(self):\n",
        "        return self.__cols\n",
        " \n",
        "    def get_item(self,row,col):\n",
        "        return self.__array[row][col]\n",
        " \n",
        "    def set_item( self , row , col , valor ):\n",
        "        self.__array[row][col]=valor\n",
        " \n",
        "    def clearing(self, valor=0):\n",
        "        for ren in range(self.__rows):\n",
        "            for col in range(self.__cols):\n",
        "                self.__array[ren][col]=valor"
      ],
      "execution_count": 14,
      "outputs": []
    },
    {
      "cell_type": "code",
      "metadata": {
        "id": "D-KpBdh3i4Lx"
      },
      "source": [
        "class LaberintoADT:\n",
        "    \"\"\"\n",
        "    0 pasillo, 1 pared, S salida y E entrada\n",
        "    pasillo es una tupla ((2,1),(2,2),(2,3),(2,4),(3,2),(4,2))\n",
        "    entrada en una tupla (5,1)\n",
        "    salida (2,5)\n",
        "    \"\"\"\n",
        "    def __init__(self, rens,cols,pasillos, entrada, salida ):\n",
        "        self.__laberinto = Array2D(rens,cols,'1')\n",
        "        for pasillo in pasillos:\n",
        "            self.__laberinto.set_item(pasillo[0], pasillo[1], '0')\n",
        "        self.set_entrada(entrada[0],entrada[1])\n",
        "        self.set_salida(salida[0],salida[1])\n",
        "        self.__camino = Stack()\n",
        "        self.__previa = None\n",
        "    def to_String(self):\n",
        "        self.__laberinto.to_string()\n",
        "    \"\"\"\n",
        "    Establece la entrada \"E\" en la matriz, verificar limites perifericos\n",
        "    \"\"\"\n",
        "    def set_entrada(self, ren, col):\n",
        "        self.__laberinto.set_item(ren,col,'E')\n",
        "        \n",
        "    \"\"\"\n",
        "    Establece la entrada \"S\" en la matriz, verificar limites perifericos\n",
        "    \"\"\"\n",
        "    def set_salida(self,ren, col):\n",
        "        self.__laberinto.set_item(ren,col,'S')\n",
        "    def es_salida(self, ren,col):\n",
        "        return self.__laberinto.get_item(re,col) == 'S'\n",
        "    def buscar_entrada(self):\n",
        "        encontrado = False\n",
        "        for renglon in range(self.__laberinto.get_num_rows() ):\n",
        "             for columna in range(self.__laberinto.get_num_cols() ):\n",
        "                 tope = self.__camino.peek() #REGRESA UNA TUPLA (2,1)\n",
        "                 if self.__laberinto.get_item(renglon,columna) == 'E': \n",
        "                     self.__camino.push(tuple(renglon,columna))\n",
        "                     encontrado = True\n",
        "        return encontrado\n",
        "                     \n",
        "    def set_previa (self, pos_previa):\n",
        "        self.__previa = pos_previa\n",
        "    def get_previa(self):\n",
        "        return self.__previa\n",
        "    #def resolver_laberinto(self):\n",
        "        #APLICAR REGLAS"
      ],
      "execution_count": 19,
      "outputs": []
    },
    {
      "cell_type": "code",
      "metadata": {
        "id": "ZmiGsa9CCRaF"
      },
      "source": [
        "class Stack:\n",
        "    def __init__(self):\n",
        "        self.__data = list()\n",
        "    def is_empty(self):\n",
        "        return len(self.__data) == 0\n",
        "    def lenght(self):\n",
        "        return len(self.__data)\n",
        "    def pop(self):\n",
        "        if self.is_empty():\n",
        "            print('Pila vac�a')\n",
        "        else:\n",
        "            return self.__data.pop()\n",
        "    def push(self, value):\n",
        "        self.__data.append(value)\n",
        "    def peek(self):\n",
        "        return self.__data[len(self.__data)-1]\n",
        "    def to_string(self):\n",
        "        print('-------')\n",
        "        for item in self.__data[::-1]:\n",
        "            print(f'|  {item}  |')\n",
        "            print('-------')\n",
        "        print('\\n')"
      ],
      "execution_count": 21,
      "outputs": []
    },
    {
      "cell_type": "code",
      "metadata": {
        "colab": {
          "base_uri": "https://localhost:8080/"
        },
        "id": "50zEJjkfi_cE",
        "outputId": "bb3bac8a-df7c-4e8f-95fa-1fb3fa794211"
      },
      "source": [
        "pasillos_inicial = ((2,1),(2,2),(2,3),(2,4),(3,2),(4,2))\r\n",
        "lab = LaberintoADT(6,6,pasillos_inicial , (5,2) , (2,5) )\r\n",
        "lab.to_String()"
      ],
      "execution_count": 22,
      "outputs": [
        {
          "output_type": "stream",
          "text": [
            "------------------\n",
            "['1', '1', '1', '1', '1', '1']\n",
            "['1', '1', '1', '1', '1', '1']\n",
            "['1', '0', '0', '0', '0', 'S']\n",
            "['1', '1', '0', '1', '1', '1']\n",
            "['1', '1', '0', '1', '1', '1']\n",
            "['1', '1', 'E', '1', '1', '1']\n",
            "------------------\n"
          ],
          "name": "stdout"
        }
      ]
    }
  ]
}