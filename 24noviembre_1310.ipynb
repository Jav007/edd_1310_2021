{
  "nbformat": 4,
  "nbformat_minor": 0,
  "metadata": {
    "colab": {
      "name": "24nov_1310.ipynb",
      "provenance": [],
      "authorship_tag": "ABX9TyOV++K5/Ak8OU97isYycKt4",
      "include_colab_link": true
    },
    "kernelspec": {
      "name": "python3",
      "display_name": "Python 3"
    }
  },
  "cells": [
    {
      "cell_type": "markdown",
      "metadata": {
        "id": "view-in-github",
        "colab_type": "text"
      },
      "source": [
        "<a href=\"https://colab.research.google.com/github/Jav007/edd_1310_2021/blob/main/24noviembre_1310.ipynb\" target=\"_parent\"><img src=\"https://colab.research.google.com/assets/colab-badge.svg\" alt=\"Open In Colab\"/></a>"
      ]
    },
    {
      "cell_type": "code",
      "metadata": {
        "colab": {
          "base_uri": "https://localhost:8080/"
        },
        "id": "wts1kgmunTu3",
        "outputId": "ba007749-2f7b-4720-a9fc-17d35c61702d"
      },
      "source": [
        "class NodoDoble:\r\n",
        "    def __init__(self, value, anterior=None, siguiente=None):\r\n",
        "        self.data = value\r\n",
        "        self.next = siguiente\r\n",
        "        self.prev = anterior\r\n",
        "class DoublyLinkedList:\r\n",
        "    def __init__(self):\r\n",
        "        self.__head = NodoDoble(None)\r\n",
        "        self.__tail = NodoDoble(None)\r\n",
        "        self.__size = 0\r\n",
        "    def get_size(self):\r\n",
        "        return self.__size\r\n",
        "    def is_empty(self):\r\n",
        "        return self.__size == 0\r\n",
        "    def append(self, value):\r\n",
        "        if self.is_empty():\r\n",
        "            nuevo = NodoDoble(value)\r\n",
        "            self.__head = nuevo\r\n",
        "            self.__tail = nuevo\r\n",
        "        else:\r\n",
        "            nuevo = NodoDoble(value, self.__tail,None)\r\n",
        "            self.__tail.next = nuevo\r\n",
        "            self.__tail = nuevo\r\n",
        "        self.__size += 1\r\n",
        "    def transversal(self):\r\n",
        "        curr_node = self.__head\r\n",
        "        while curr_node != None:\r\n",
        "            print(f\"<-- {curr_node.data} -->\",end=\"\")\r\n",
        "            curr_node = curr_node.next\r\n",
        "        print()\r\n",
        "    def reverse_transversal(self):\r\n",
        "        curr_node = self.__tail\r\n",
        "        while curr_node != None:\r\n",
        "            print(f\"<-- {curr_node.data} -->\",end=\"\")\r\n",
        "            curr_node = curr_node.prev\r\n",
        "        print()\r\n",
        "    def remove_from_head(self,value):\r\n",
        "        curr_node = self.__head\r\n",
        "        if self.__head.data == value:\r\n",
        "            self.__head = self.__head.next\r\n",
        "            self.__head.prev = None\r\n",
        "        while curr_node.data != value and curr_node != None:\r\n",
        "            curr_node = curr_node.next\r\n",
        "            if curr_node.data == value:\r\n",
        "                curr_node.prev.next = curr_node.next\r\n",
        "                curr_node.next.prev = curr_node.prev\r\n",
        "        curr_node.next = None\r\n",
        "        curr_node.prev = None\r\n",
        "        self.__size -= 1\r\n",
        "ld = DoublyLinkedList()\r\n",
        "print(f\"Esta vacia ? {ld.is_empty()}\")\r\n",
        "ld.append(10)\r\n",
        "ld.append(20)\r\n",
        "ld.append(30)\r\n",
        "print(f\"La lista tiene {ld.get_size()}\")\r\n",
        "ld.transversal()\r\n",
        "ld.reverse_transversal()\r\n",
        "ld.remove_from_head(20)\r\n",
        "ld.transversal()"
      ],
      "execution_count": 1,
      "outputs": [
        {
          "output_type": "stream",
          "text": [
            "Esta vacia ? True\n",
            "La lista tiene 3\n",
            "<-- 10 --><-- 20 --><-- 30 -->\n",
            "<-- 30 --><-- 20 --><-- 10 -->\n",
            "<-- 10 --><-- 30 -->\n"
          ],
          "name": "stdout"
        }
      ]
    }
  ]
}