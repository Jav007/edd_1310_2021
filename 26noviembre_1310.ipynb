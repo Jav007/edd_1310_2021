{
  "nbformat": 4,
  "nbformat_minor": 0,
  "metadata": {
    "colab": {
      "name": "26noviembre_1310",
      "provenance": [],
      "authorship_tag": "ABX9TyNdukKSS2BcqzDItm8rvAGv",
      "include_colab_link": true
    },
    "kernelspec": {
      "name": "python3",
      "display_name": "Python 3"
    }
  },
  "cells": [
    {
      "cell_type": "markdown",
      "metadata": {
        "id": "view-in-github",
        "colab_type": "text"
      },
      "source": [
        "<a href=\"https://colab.research.google.com/github/Jav007/edd_1310_2021/blob/main/26noviembre_1310.ipynb\" target=\"_parent\"><img src=\"https://colab.research.google.com/assets/colab-badge.svg\" alt=\"Open In Colab\"/></a>"
      ]
    },
    {
      "cell_type": "code",
      "metadata": {
        "id": "VlNalNVQ1O6Y",
        "colab": {
          "base_uri": "https://localhost:8080/"
        },
        "outputId": "07a4fd2a-8d4a-45a8-b828-8aa5e974e257"
      },
      "source": [
        "class Stack:\n",
        "    def __init__(self):\n",
        "        self.__data = list()\n",
        "    \n",
        "    def is_empty(self):\n",
        "        return len(self.__data) == 0\n",
        " \n",
        "    def length (self):\n",
        "        return len(self.__data)\n",
        " \n",
        "    def pop(self):\n",
        "        if self.is_empty():\n",
        "            print (\"lista vacia\")\n",
        "        else:\n",
        "            return self.__data.pop()\n",
        " \n",
        "    def push(self,value):\n",
        "        self.__data.append(value)\n",
        " \n",
        "    def peek(self):\n",
        "        return self.__data[len(self.__data) - 1]\n",
        " \n",
        "    def to_String(self):\n",
        "        for item in self.__data[::-1]:\n",
        "            \n",
        "            print (f\"|{item}|\")\n",
        "            print (\"---\")\n",
        "        print ()\n",
        " \n",
        "pila = Stack()\n",
        " \n",
        "pila.push('a')\n",
        " \n",
        "pila.push('x') \n",
        "pila.to_String()\n",
        "pila.push('b')\n",
        "pila.push(\"y\")\n",
        "pila.to_String()\n",
        " \n",
        "var = pila.pop()\n",
        " \n",
        "pila.to_String()\n",
        " \n",
        "print(f\"var = { var } \")"
      ],
      "execution_count": 15,
      "outputs": [
        {
          "output_type": "stream",
          "text": [
            "|x|\n",
            "---\n",
            "|a|\n",
            "---\n",
            "\n",
            "|y|\n",
            "---\n",
            "|b|\n",
            "---\n",
            "|x|\n",
            "---\n",
            "|a|\n",
            "---\n",
            "\n",
            "|b|\n",
            "---\n",
            "|x|\n",
            "---\n",
            "|a|\n",
            "---\n",
            "\n",
            "var = y \n"
          ],
          "name": "stdout"
        }
      ]
    }
  ]
}